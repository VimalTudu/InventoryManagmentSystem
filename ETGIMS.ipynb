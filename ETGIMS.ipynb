{
 "cells": [
  {
   "cell_type": "code",
   "execution_count": 50,
   "metadata": {},
   "outputs": [],
   "source": [
    "import json\n",
    "import os\n",
    "import time"
   ]
  },
  {
   "cell_type": "code",
   "execution_count": 11,
   "metadata": {},
   "outputs": [],
   "source": [
    "#fout=open(\"C:/Users/ASUS/Desktop/records.json\",\"r\")\n",
    "#data=fout.read()\n",
    "#fout.close()"
   ]
  },
  {
   "cell_type": "code",
   "execution_count": 12,
   "metadata": {},
   "outputs": [],
   "source": [
    "#js=json.loads(data)"
   ]
  },
  {
   "cell_type": "code",
   "execution_count": 13,
   "metadata": {},
   "outputs": [],
   "source": [
    "#print(js)"
   ]
  },
  {
   "cell_type": "markdown",
   "metadata": {},
   "source": [
    "#Display function"
   ]
  },
  {
   "cell_type": "code",
   "execution_count": 14,
   "metadata": {},
   "outputs": [],
   "source": [
    "#It is used to display product description present in database\n",
    "\n",
    "def display():\n",
    "    fout=open(\"records.json\",\"r\")\n",
    "    data=fout.read()\n",
    "    fout.close()\n",
    "    d_data=json.loads(data)\n",
    "    for d in d_data:\n",
    "        print(\"\\nProduct_id:\",d,d_data[d])\n",
    "        "
   ]
  },
  {
   "cell_type": "code",
   "execution_count": 15,
   "metadata": {
    "scrolled": true
   },
   "outputs": [],
   "source": [
    "#If necessary run this to verify\n",
    "#display()"
   ]
  },
  {
   "cell_type": "markdown",
   "metadata": {},
   "source": [
    "##User Input Function:\n",
    "It takes Customer name,product_id,quantity as user_name,p_id and qu\n",
    "It also takes no. of items as item"
   ]
  },
  {
   "cell_type": "code",
   "execution_count": 16,
   "metadata": {},
   "outputs": [],
   "source": [
    "#This function takes input from user\n",
    "#It also return nested dictionary containing extra attribute 'user name' and 'user_quantity'->which is the quantity entered by user\n",
    "\n",
    "def user_input():\n",
    "    \n",
    "    user_name=input(\"\\nEnter customer name: \")\n",
    "    item=int(input(\"Enter no. of items to purchase:\"))\n",
    "    \n",
    "    #file is read and data is converted into dictionary\n",
    "    fout=open(\"records.json\",\"r\")\n",
    "    data=fout.read()\n",
    "    fout.close()\n",
    "    js=json.loads(data)\n",
    "    \n",
    "    #purchase data is nested dictionary \n",
    "    purchase_data={}\n",
    "    purchase_data[\"User_Name\"]=user_name #Adding extra key and value pairs\n",
    "\n",
    "    #if user has entered item greater than the total items present in database \n",
    "    if(int(item)>len(js)):\n",
    "        print(\"Please Enter valid no. of item\")\n",
    "        \n",
    "    for i in range(item):\n",
    "        \n",
    "        p_id=input(\"Enter product id: \")\n",
    "        \n",
    "        #if product id is not in database\n",
    "        if(p_id not in js):\n",
    "            print(\"Enter valid product id\")\n",
    "            return purchase_data\n",
    "        \n",
    "        qu=int(input(\"Enter the quantity: \"))\n",
    "        \n",
    "        #Out of stock\n",
    "        if(int(js[p_id]['quantity'])<=0):\n",
    "            print(\"Product ID:{} Product Name:{} Out of stock\".format(p_id,js[p_id]['name']))\n",
    "            return purchase_data\n",
    "        \n",
    "        #if quantity entred by user is greater than the available in database\n",
    "        if(int(qu)>int(js[p_id]['quantity'])):\n",
    "            print(\"Please enter quantity less than previous\")\n",
    "            print(\"Bill will be created from above entered product id\")\n",
    "            return purchase_data\n",
    "        \n",
    "        if(int(qu)<=0):\n",
    "            print(\"Enter valid quantity,It should be greater than 0\")\n",
    "            print(\"Bill will be created from above entered product id\")\n",
    "            return purchase_data\n",
    "        \n",
    "        purchase_data[p_id]=js[p_id]\n",
    "        \n",
    "        #Adding extra attribute key_>value pairs inside nested dictionary to particular product_id \n",
    "        purchase_data[p_id]['user_quantity']=qu         \n",
    "        \n",
    "        ##print(purchase_data)\n",
    "    return(purchase_data)\n",
    "    #return(list([user_name,{p_id:js[p_id],'user_quantity':qu}]))\n"
   ]
  },
  {
   "cell_type": "code",
   "execution_count": 17,
   "metadata": {
    "scrolled": true
   },
   "outputs": [],
   "source": [
    "#user_input()"
   ]
  },
  {
   "cell_type": "code",
   "execution_count": 18,
   "metadata": {},
   "outputs": [],
   "source": [
    "#To validate what user input returns\n",
    "\n",
    "#b=user_input()\n",
    "#print(b)"
   ]
  },
  {
   "cell_type": "markdown",
   "metadata": {
    "scrolled": true
   },
   "source": [
    "#Billing Function"
   ]
  },
  {
   "cell_type": "code",
   "execution_count": 39,
   "metadata": {},
   "outputs": [],
   "source": [
    "#This function is used to print the reciept:\n",
    "#user_data is the purchase_data returned by user_input() function\n",
    "def billing(user_data):\n",
    "    \n",
    "    #print(user_data)\n",
    "    \n",
    "    \n",
    "    if(len(user_data)<2):\n",
    "        print(\"No Purchase\")\n",
    "        return\n",
    "    \n",
    "    #Print bill details\n",
    "    \n",
    "    print(\"\\n************THE SHOP*********************\")\n",
    "    print(\"*************Ranchi,Jharkhand************\")\n",
    "    print(\"\\nBill Details\\n\")\n",
    "    print(\"========================================\\n\")\n",
    "    print(\"Customer name:\",user_data[\"User_Name\"])\n",
    "    #print(user_data.keys())\n",
    "    \n",
    "    for u in user_data:\n",
    "        if(u=='User_Name'):\n",
    "            continue\n",
    "        print(\"\\nProduct ID:\",u,end=\"  \")\n",
    "        print(\"Product Name:\",user_data[u]['name'],end=\"  \")\n",
    "        print(\"Price:\\u20B9{}\".format(user_data[u]['mrp']),end=\"  \")\n",
    "        print(\"Quantity:\",user_data[u]['user_quantity'],end=\" \")\n",
    "        print(\"Cost:\\u20B9{}\".format(float(user_data[u]['mrp']*user_data[u]['user_quantity'])))\n",
    "    \n",
    "    print(\"------------------------------------------------\")\n",
    "    print(\"Date and Time:\",time.ctime())\n",
    "    #print(\"Product details:\\n\")\n",
    "    #print(user_data[3:])\n",
    "    print(\"\\n----------------------------------------------\")\n",
    "    \n",
    "    \n",
    "    \n",
    "    cost=0.0\n",
    "    gst=0.0\n",
    "    total_cost=0.0\n",
    "    for u in user_data:\n",
    "        if(u=='User_Name'):\n",
    "            continue\n",
    "        cost+=user_data[u]['mrp']*user_data[u]['user_quantity']\n",
    "    #print(user_data[3]['mrp']\n",
    "    \n",
    "    gst=(18*cost)/100\n",
    "    total_cost=cost+gst\n",
    "    print(\"-------------------------------------------------\")\n",
    "    print(\"Total items:\",len(user_data)-1)\n",
    "    print(\"Cost:\\u20B9{}\".format(float(cost)))\n",
    "    print(\"GST:\\u20B9{}\".format(float(gst)))\n",
    "    print(\"Total Amount(including all tax):\\u20B9{}\".format(float(total_cost)))\n",
    "    print(\"-------------------------------------------------\")\n",
    "    print(\"THANK YOU! VISIT AGAIN\")\n",
    "    \n",
    "    #print(cost,gst,total_cost)\n",
    "    #process()"
   ]
  },
  {
   "cell_type": "code",
   "execution_count": 20,
   "metadata": {},
   "outputs": [],
   "source": [
    "#billing()"
   ]
  },
  {
   "cell_type": "code",
   "execution_count": 21,
   "metadata": {},
   "outputs": [],
   "source": [
    "#print(js)\n",
    "#len(js)"
   ]
  },
  {
   "cell_type": "code",
   "execution_count": 22,
   "metadata": {},
   "outputs": [],
   "source": [
    "#print(data)"
   ]
  },
  {
   "cell_type": "code",
   "execution_count": 23,
   "metadata": {},
   "outputs": [],
   "source": [
    "#print(js)"
   ]
  },
  {
   "cell_type": "code",
   "execution_count": 24,
   "metadata": {},
   "outputs": [],
   "source": [
    "#js['1']['quantity']=400\n",
    "#print(js)"
   ]
  },
  {
   "cell_type": "code",
   "execution_count": 25,
   "metadata": {},
   "outputs": [],
   "source": [
    "#processed_data=json.dumps(js)\n",
    "#print(processed_data)\n"
   ]
  },
  {
   "cell_type": "code",
   "execution_count": 26,
   "metadata": {},
   "outputs": [],
   "source": [
    "#fout=open(\"C:/Users/ASUS/Desktop/records.json\",\"w\")\n",
    "#fout.write(processed_data)\n",
    "#fout.close()\n",
    "\n",
    "\n",
    "        "
   ]
  },
  {
   "cell_type": "code",
   "execution_count": 27,
   "metadata": {},
   "outputs": [],
   "source": [
    "#for i in range(3,len(user_data)):\n",
    "#      js[i]['quantity']=js[user_data[1]][user_data[i][]]-int(user_data[2])"
   ]
  },
  {
   "cell_type": "code",
   "execution_count": null,
   "metadata": {},
   "outputs": [],
   "source": []
  },
  {
   "cell_type": "code",
   "execution_count": 38,
   "metadata": {},
   "outputs": [],
   "source": [
    "#Function to process data which updates the database\n",
    "\n",
    "def process(user_data):\n",
    "    \n",
    "    #file is opend and data is converted to dictionary for processing\n",
    "    fin=open(\"records.json\",\"r\")\n",
    "    data=fin.read()\n",
    "    fin.close()\n",
    "    update_data=json.loads(data)\n",
    "    \n",
    "    #sf_text is the text which is written in sales.txt\n",
    "    \n",
    "    ##sf=open(\"C:/Users/ASUS/Desktop/sales.txt\",\"w\")\n",
    "    sf_txt=\"\\n\\nCustomer Name: \"+user_data['User_Name']+\"  Date and Time:{}\".format(time.ctime())\n",
    "    cost=0.0\n",
    "    total_cost=0.0\n",
    "    \n",
    "    for u in user_data:\n",
    "        if(u=='User_Name'):\n",
    "            continue\n",
    "            \n",
    "        #Changing values of quantity of product\n",
    "        update_data[u]['quantity']=user_data[u]['quantity']-user_data[u]['user_quantity']\n",
    "        \n",
    "        \n",
    "        \n",
    "        #To verify the changes if necessary\n",
    "        ''' #print(\"#\")\n",
    "            #print(\"Original Quantity:\",user_data[u]['quantity'])\n",
    "        #print(\"User_Quantity:\",user_data[u]['user_quantity'])\n",
    "        #print(\"Updated Quantity:\", update_data[u]['quantity'])\n",
    "        #print(\"#\")'''\n",
    "        \n",
    "        total_cost=cost+user_data[u]['user_quantity']*user_data[u]['mrp']\n",
    "        cost=user_data[u]['user_quantity']*user_data[u]['mrp']\n",
    "        \n",
    "        sf_txt+='''\\nProduct_id:{} Quantity:{} User_Quantity:{} Updated Quantity:{} Cost:{}'''.format(u,user_data[u]['quantity'],user_data[u]['user_quantity'],update_data[u]['quantity'],cost)\n",
    "        \n",
    "    \n",
    "    #File(records.json) is opened and necessary update is done\n",
    "    fout=open(\"records.json\",\"w\") \n",
    "    update_data=json.dumps(update_data)\n",
    "    fout.write(update_data)#Updating the quantity\n",
    "    fout.close()\n",
    "    \n",
    "    #file sales.txt is updated\n",
    "    sf_txt+=\"\\nEarning:{}\".format(float(total_cost))\n",
    "    sf=open(\"sales.txt\",\"a\")     \n",
    "    sf.write(sf_txt)\n",
    "    sf.close()\n",
    "    \n",
    "    "
   ]
  },
  {
   "cell_type": "code",
   "execution_count": 29,
   "metadata": {},
   "outputs": [],
   "source": [
    "#user_input()"
   ]
  },
  {
   "cell_type": "markdown",
   "metadata": {},
   "source": [
    "  sample={'User_Name': 'Ashidid',\n",
    " '1': {'name': 'Unibic Assorted Cookies',\n",
    "  'type': 'Grocery',\n",
    "  'mrp': 188,\n",
    "  'exp_date': '03/08/2022',\n",
    "  'weight': '75g',\n",
    "  'quantity': 400,\n",
    "  'user_quantity': 2},\n",
    " '2': {'name': 'Karachi Bakery Cashew Biscuits',\n",
    "  'type': 'Grocery',\n",
    "  'mrp': 190,\n",
    "  'exp_date': '03/08/2022',\n",
    "  'weight': '400g',\n",
    "  'quantity': 3937,\n",
    "  'user_quantity': 3}}"
   ]
  },
  {
   "cell_type": "code",
   "execution_count": 30,
   "metadata": {},
   "outputs": [],
   "source": [
    "#process(user_input())"
   ]
  },
  {
   "cell_type": "code",
   "execution_count": 35,
   "metadata": {},
   "outputs": [],
   "source": [
    "#fin=open(\"C:/Users/ASUS/Desktop/records.json\",\"r\")"
   ]
  },
  {
   "cell_type": "code",
   "execution_count": 36,
   "metadata": {},
   "outputs": [],
   "source": [
    "#fin.read()"
   ]
  },
  {
   "cell_type": "code",
   "execution_count": null,
   "metadata": {},
   "outputs": [],
   "source": [
    "#Purchase function\n",
    "def purchase():\n",
    "    display()\n",
    "    user_data=user_input()\n",
    "    billing(user_data)\n",
    "    process(user_data)"
   ]
  },
  {
   "cell_type": "code",
   "execution_count": 42,
   "metadata": {},
   "outputs": [
    {
     "name": "stdout",
     "output_type": "stream",
     "text": [
      "\n",
      "Product_id: 1 {'name': 'Unibic Assorted Cookies', 'type': 'Grocery', 'brand': 'Unibic', 'mrp': 188, 'exp_date': '03/08/2023', 'weight': '75g', 'quantity': 263}\n",
      "\n",
      "Product_id: 2 {'name': 'Karachi Bakery Cashew Biscuits', 'type': 'Grocery', 'brand': 'Karachi Bakery', 'mrp': 190, 'exp_date': '03/05/2023', 'weight': '400g', 'quantity': 3753}\n",
      "\n",
      "Product_id: 3 {'name': 'Naturoz California Walnut Kernels Premium', 'type': 'Grocery', 'brand': 'Naturoz', 'mrp': 188, 'exp_date': '09/08/2023', 'weight': '200g', 'quantity': 5681}\n",
      "\n",
      "Product_id: 4 {'name': 'ChefBoss Creamy Pasta Sauce - White Sauce for Pasta, Salads, Sandwich Spread, Dip | Ready to Cook (Pack of 2)', 'type': 'Grocery', 'brand': 'CheffBoss', 'mrp': 188, 'exp_date': '05/09/2023', 'weight': '200g', 'quantity': 916}\n",
      "\n",
      "Product_id: 5 {'name': '4700BC Gourmet Popcorn, Nutty Tuxedo Chocolate, Tin', 'type': 'Grocery', 'brand': '4700BC', 'mrp': 184, 'exp_date': '03/11/2022', 'weight': '157g', 'quantity': 5714}\n",
      "\n",
      "Product_id: 6 {'name': '4700BC Popcorn, Microwave Bags, Assorted Flavours, 454g, (Pack of 5)', 'type': 'Grocery', 'brand': '4700BC', 'mrp': 188, 'exp_date': '03/08/2023', 'weight': '50gm', 'quantity': 512}\n",
      "\n",
      "Product_id: 7 {'name': 'Nutraj Bakers Pride Walnut', 'type': 'Grocery', 'brand': '', 'mrp': 535, 'exp_date': '03/08/2023', 'weight': '250g', 'quantity': 4357}\n",
      "\n",
      "Product_id: 8 {'name': 'Nutralite Choco Spread Calcium| Hazelnut Spread| Uses Premium Chocolate', 'type': 'Grocery', 'brand': 'Nutralite', 'mrp': 188, 'exp_date': '03/08/2022', 'weight': '275g', 'quantity': 773}\n",
      "\n",
      "Product_id: 9 {'name': 'SLAY Now Premium Instant Gourmet Coffee (Classic Blend)  Jar', 'type': 'Grocery', 'brand': 'SLAY', 'mrp': 188, 'exp_date': '03/08/2022', 'weight': '50g', 'quantity': 270}\n",
      "\n",
      "Product_id: 10 {'name': '', 'type': '', 'brand': '', 'mrp': 188, 'exp_date': '03/11/2023', 'weight': '100g', 'quantity': 4738}\n",
      "\n",
      "Product_id: 11 {'name': 'Nestle MUNCH Crisp-Pop Caramel Chocolate Coated Crunchy Wafer', 'type': 'Grocery', 'brand': 'Nestle', 'mrp': 599, 'exp_date': '03/08/2023', 'weight': '20g', 'quantity': 408}\n",
      "\n",
      "Product_id: 12 {'name': 'Hatamic Cold Pressed Mustord Oil', 'type': 'Grocery', 'brand': 'Hathmic', 'mrp': 438, 'exp_date': '03/08/2024', 'weight': '200g', 'quantity': 102}\n",
      "\n",
      "Product_id: 13 {'name': 'ChefBoss Hyderabadi Briyabi Masala Paste', 'type': 'Grocery', 'brand': 'ChefBoss', 'mrp': 150, 'exp_date': '03/08/2023', 'weight': '150', 'quantity': 203}\n",
      "\n",
      "Product_id: 14 {'name': 'Naturalite Choco Calcium|Hazelnut', 'type': 'Grocery', 'brand': 'Naturalite', 'mrp': 224, 'exp_date': '05/11/2023', 'weight': '50g', 'quantity': 773}\n",
      "\n",
      "Product_id: 15 {'name': 'Nestle Milkbar Moosa', 'type': 'Grocery', 'brand': 'Nestle', 'mrp': 630, 'exp_date': '03/08/2023', 'weight': '63g', 'quantity': 802}\n",
      "\n",
      "Product_id: 16 {'name': 'Hapilo 100% Natural Perimium Californian', 'type': 'Snacks', 'brand': 'Happilo', 'mrp': 468, 'exp_date': '03/08/2023', 'weight': '80g', 'quantity': 7961}\n",
      "\n",
      "Product_id: 17 {'name': 'Amazon Brand-Solimo Almonds', 'type': 'Snacks', 'brand': 'Whole Almonds', 'mrp': 979, 'exp_date': '03/08/2022', 'weight': '500g', 'quantity': 2016}\n",
      "\n",
      "Product_id: 18 {'name': '', 'type': '', 'brand': '', 'mrp': 188, 'exp_date': '03/08/2022', 'weight': '', 'quantity': 4408}\n",
      "\n",
      "Product_id: 19 {'name': 'Vedka Popular Whole Almonds', 'type': 'Sancks', 'brand': 'Vedka', 'mrp': 519, 'exp_date': '03/08/2022', 'weight': '500g', 'quantity': 56830}\n",
      "\n",
      "Product_id: 20 {'name': 'True Element Sunflower Seeds', 'type': 'Snacks', 'brand': 'True Elements', 'mrp': 169, 'exp_date': '03/08/2023', 'weight': '250g', 'quantity': 2892}\n",
      "\n",
      "Product_id: 21 {'name': 'True Elements Raw Flax Seeds', 'type': 'Snacks', 'brand': 'True Elements', 'mrp': 190, 'exp_date': '03/05/2023', 'weight': '500g', 'quantity': 5433}\n",
      "\n",
      "Product_id: 22 {'name': 'Tulsi Almonds', 'type': 'Snacks', 'brand': 'California Almonds', 'mrp': 275, 'exp_date': '03/08/2025', 'weight': '200g', 'quantity': 11000}\n",
      "\n",
      "Product_id: 23 {'name': 'Happilo Dry Fruits', 'type': 'Snacks', 'brand': 'Happilo', 'mrp': 105, 'exp_date': '03/08/2023', 'weight': '100g', 'quantity': 500}\n",
      "\n",
      "Product_id: 24 {'name': 'Natural Mixed Fruit Juice', 'type': 'Beverages', 'brand': 'Natural', 'mrp': 220, 'exp_date': '03/00/2022', 'weight': '220ml', 'quantity': 4684}\n",
      "\n",
      "Product_id: 25 {'name': 'Badiynath Amla Juice', 'type': 'Beverages', 'brand': 'Badiyanath', 'mrp': 185, 'exp_date': '03/08/2022', 'weight': '185ml', 'quantity': 2023}\n",
      "\n",
      "Product_id: 26 {'name': 'Kapiva Get Sli Juice', 'type': 'Beverages', 'brand': 'Kapiva', 'mrp': 404, 'exp_date': '03/10/2023', 'weight': '100ml', 'quantity': 2030}\n",
      "\n",
      "Product_id: 27 {'name': 'Natural Orange Juice', 'type': 'Beverages', 'brand': 'Natural', 'mrp': 220, 'exp_date': '03/11/2022', 'weight': '2L', 'quantity': 2821}\n",
      "\n",
      "Product_id: 28 {'name': 'Badiyanath Giloy Tulsi Juice', 'type': 'Beverages', 'brand': 'Badiyanath', 'mrp': 220, 'exp_date': '03/09/2023', 'weight': '1L', 'quantity': 4080}\n",
      "\n",
      "Product_id: 29 {'name': 'Dabur Giloy neem Tulsi Juice', 'type': 'Beverages', 'brand': 'Dabur', 'mrp': 204, 'exp_date': '05/11/2022', 'weight': '100ml', 'quantity': 4541}\n",
      "\n",
      "Product_id: 30 {'name': 'Kapiva Dia Free Juice', 'type': 'Beverages', 'brand': 'Kapiva', 'mrp': 382, 'exp_date': '03/11/2023', 'weight': '1L', 'quantity': 1338}\n",
      "\n",
      "Product_id: 31 {'name': 'Kapiva Karela Jamun Juice', 'type': 'Beverages', 'brand': 'Kapiva', 'mrp': 270, 'exp_date': '03/08/2022', 'weight': '1L', 'quantity': 1804}\n",
      "\n",
      "Product_id: 32 {'name': 'Paper Boat Aamras Juice', 'type': 'Beverages', 'brand': 'Paper Boat', 'mrp': 188, 'exp_date': '03/08/2023', 'weight': '1L', 'quantity': 499}\n",
      "\n",
      "Product_id: 33 {'name': 'Real Active Orange Juice', 'type': 'Beverages', 'brand': 'Real', 'mrp': 200, 'exp_date': '03/06/2023', 'weight': '1L', 'quantity': 2954}\n",
      "\n",
      "Product_id: 34 {'name': 'B Natural Guava Juice', 'type': 'Beverages', 'brand': 'Natural', 'mrp': 188, 'exp_date': '03/09/2024', 'weight': '!L', 'quantity': 3293}\n",
      "\n",
      "Product_id: 35 {'name': 'B Natural Apple Juice', 'type': 'Beverages', 'brand': 'Natural', 'mrp': 220, 'exp_date': '03/08/2023', 'weight': '2L', 'quantity': 2056}\n",
      "\n",
      "Product_id: 36 {'name': 'Tata Salt', 'type': 'Spices', 'brand': 'Tata', 'mrp': 20, 'exp_date': '03/08/2023', 'weight': '1Kg', 'quantity': 13476}\n",
      "\n",
      "Product_id: 37 {'name': 'Tata Sampoon Cooriander', 'type': 'Spices', 'brand': 'Tata', 'mrp': 47, 'exp_date': '03/08/2023', 'weight': '200g', 'quantity': 2275}\n",
      "\n",
      "Enter customer name: Ashish Jangra\n",
      "Enter no. of items to purchase:2\n",
      "Enter product id: 1\n",
      "Enter the quantity: 2\n",
      "Enter product id: 28\n",
      "Enter the quantity: 5\n",
      "\n",
      "************THE SHOP*********************\n",
      "*************Ranchi,Jharkhand************\n",
      "\n",
      "Bill Details\n",
      "\n",
      "========================================\n",
      "\n",
      "Customer name: Ashish Jangra\n",
      "\n",
      "Product ID: 1  Product Name: Unibic Assorted Cookies  Price:₹188  Quantity: 2 Cost:₹376.0\n",
      "\n",
      "Product ID: 28  Product Name: Badiyanath Giloy Tulsi Juice  Price:₹220  Quantity: 5 Cost:₹1100.0\n",
      "------------------------------------------------\n",
      "Date and Time: Thu Sep  2 21:51:57 2021\n",
      "\n",
      "----------------------------------------------\n",
      "-------------------------------------------------\n",
      "Total items: 2\n",
      "Cost:₹1476.0\n",
      "GST:₹265.68\n",
      "Total Amount(including all tax):₹1741.68\n",
      "-------------------------------------------------\n",
      "THANK YOU! VISIT AGAIN\n"
     ]
    }
   ],
   "source": [
    "purchase()"
   ]
  },
  {
   "cell_type": "code",
   "execution_count": null,
   "metadata": {},
   "outputs": [],
   "source": [
    "#fin=open(\"C:/Users/ASUS/Desktop/records.json\",\"r\")\n",
    "#fin.read()\n",
    "#fin.close()"
   ]
  },
  {
   "cell_type": "code",
   "execution_count": 43,
   "metadata": {},
   "outputs": [],
   "source": [
    "#Update function to update database \n",
    "def update():\n",
    "    \n",
    "    #File is is opened and data is converted into dicttionary for further process\n",
    "    fin=open(\"records.json\",\"r\")\n",
    "    data=fin.read()\n",
    "    fin.close()\n",
    "    js_data=json.loads(data)\n",
    "    \n",
    "    print(\"Available Database:\")\n",
    "    #print(js_data\n",
    "    \n",
    "    #Available products with their discription is displayed\n",
    "    \n",
    "    display()\n",
    "    print(\"-------------------------------------------------------------------------------------------\")\n",
    "    print(\"\\nOption1: Update\")\n",
    "    print(\"\\nOption 2: Delete\")\n",
    "    print(\"\\nOption 3:To add quantity to existing product id\\n\")\n",
    "    print(\"-------------------------------------------------------------------------------------------\")\n",
    "    option=int(input(\"Enter 1 to update or 2 to delete or 3 To add quantity to existing product id:\"))\n",
    "    \n",
    "    \n",
    "    #Option 1 Update:Adding new products\n",
    "    if(option==1):\n",
    "        \n",
    "        #Product id is entered and it is validited by if condition to enure it is corret\n",
    "        p_id=input(\"Enter product id:\")\n",
    "        if(p_id in js_data):\n",
    "            print(\"Product id already exit\")\n",
    "            return\n",
    "        if(not(p_id.isdigit()) or int(p_id)<0):\n",
    "            print(\"Invalid product id\")\n",
    "            print(\"Product id should be digit and it should be greater than 0\")\n",
    "            return\n",
    "        \n",
    "        \n",
    "        p_name=input(\"Enter product name:\")\n",
    "        \n",
    "        p_brand=input(\"Enter brand name\")\n",
    "        \n",
    "        p_type=input(\"Enter type:\")\n",
    "        \n",
    "        p_mrp=input(\"Enter mrp:\")\n",
    "        #print(type(p_mrp))\n",
    "        \n",
    "        if(not(p_mrp.isdigit()) or int(p_mrp)<=0):\n",
    "            print(\"Mrp is Invalid\")\n",
    "            print(\"MRP Should be digit and it should be greater than 0\")\n",
    "            return\n",
    "        else:\n",
    "            p_mrp=int(p_mrp)\n",
    "        \n",
    "        p_exp_date=input(\"Enter expiry date in formart  dd/mm/yyyy:\")\n",
    "        \n",
    "        \n",
    "       \n",
    "        p_quantity=input(\"Enter quantity:\")\n",
    "        if(not(p_quantity.isdigit()) or int(p_quantity)<=0):\n",
    "            print(\"Invalid quantity:\")\n",
    "            print(\"Quantity Should be digit and it should be greater than 0\")\n",
    "            return\n",
    "        else:\n",
    "            p_quantity=int(p_quantity)\n",
    "        \n",
    "        \n",
    "        #temp_data is the variable for temperory storage.It is in dictionary form.\n",
    "        temp_data=dict()\n",
    "        temp_data['name']= p_name\n",
    "        temp_data['type']= p_type\n",
    "        temp_data['brand']= p_brand\n",
    "        temp_data['mrp']= p_mrp\n",
    "        temp_data['exp_date']= p_exp_date\n",
    "        temp_data['quantity']= p_quantity\n",
    "\n",
    "        #Finally data is stored in js_data in nested dictionary which is to be dumped in file.json\n",
    "        js_data[p_id]=temp_data\n",
    "       \n",
    "       #Option 2 to delete\n",
    "    elif(option==2):\n",
    "        print(\"Delete record by entering product id\")\n",
    "        p_id=input(\"Enter product id:\")\n",
    "        del js_data[p_id]\n",
    "     \n",
    "    #Option 3 to add quantity to product \n",
    "    elif(option==3):\n",
    "        \n",
    "        p_id=input(\"Enter product id:\")\n",
    "        if(p_id not in js_data):\n",
    "            print(\"Product id  invalid\")\n",
    "            return\n",
    "        if(not(p_id.isdigit()) or int(p_id)<0):\n",
    "            print(\"Invalid product id\")\n",
    "            print(\"Product id should be digit and it should be greater than 0\")\n",
    "            return\n",
    "        \n",
    "        p_quantity=input(\"Enter quantity:\")\n",
    "        if(not(p_quantity.isdigit()) or int(p_quantity)<=0 or int(p_quantity)>100000):\n",
    "            print(\"Invalid quantity:\")\n",
    "            print(\"Quantity Should be digit and it should be greater than 0 and less than 100000\")\n",
    "            return\n",
    "        else:\n",
    "            p_quantity=int(p_quantity)\n",
    "            \n",
    "        js_data[p_id]['quantity']=js_data[p_id]['quantity']+p_quantity\n",
    "      \n",
    "    #Wrong Option\n",
    "    else:\n",
    "        print(\"Wrong option chosen\")\n",
    "        \n",
    "    #Printing for verifying if needed    \n",
    "    #print(js_data)\n",
    "    \n",
    "    \n",
    "    #Finally updated in orifinal database\n",
    "    fout=open(\"records.json\",\"w\")\n",
    "    fout.write(json.dumps(js_data))\n",
    "    fout.close()\n",
    "    "
   ]
  },
  {
   "cell_type": "code",
   "execution_count": 46,
   "metadata": {},
   "outputs": [
    {
     "name": "stdout",
     "output_type": "stream",
     "text": [
      "Available Database:\n",
      "\n",
      "Product_id: 1 {'name': 'Unibic Assorted Cookies', 'type': 'Grocery', 'brand': 'Unibic', 'mrp': 188, 'exp_date': '03/08/2023', 'weight': '75g', 'quantity': 261}\n",
      "\n",
      "Product_id: 2 {'name': 'Karachi Bakery Cashew Biscuits', 'type': 'Grocery', 'brand': 'Karachi Bakery', 'mrp': 190, 'exp_date': '03/05/2023', 'weight': '400g', 'quantity': 3753}\n",
      "\n",
      "Product_id: 3 {'name': 'Naturoz California Walnut Kernels Premium', 'type': 'Grocery', 'brand': 'Naturoz', 'mrp': 188, 'exp_date': '09/08/2023', 'weight': '200g', 'quantity': 5681}\n",
      "\n",
      "Product_id: 4 {'name': 'ChefBoss Creamy Pasta Sauce - White Sauce for Pasta, Salads, Sandwich Spread, Dip | Ready to Cook (Pack of 2)', 'type': 'Grocery', 'brand': 'CheffBoss', 'mrp': 188, 'exp_date': '05/09/2023', 'weight': '200g', 'quantity': 916}\n",
      "\n",
      "Product_id: 5 {'name': '4700BC Gourmet Popcorn, Nutty Tuxedo Chocolate, Tin', 'type': 'Grocery', 'brand': '4700BC', 'mrp': 184, 'exp_date': '03/11/2022', 'weight': '157g', 'quantity': 5714}\n",
      "\n",
      "Product_id: 6 {'name': '4700BC Popcorn, Microwave Bags, Assorted Flavours, 454g, (Pack of 5)', 'type': 'Grocery', 'brand': '4700BC', 'mrp': 188, 'exp_date': '03/08/2023', 'weight': '50gm', 'quantity': 512}\n",
      "\n",
      "Product_id: 7 {'name': 'Nutraj Bakers Pride Walnut', 'type': 'Grocery', 'brand': '', 'mrp': 535, 'exp_date': '03/08/2023', 'weight': '250g', 'quantity': 4357}\n",
      "\n",
      "Product_id: 8 {'name': 'Nutralite Choco Spread Calcium| Hazelnut Spread| Uses Premium Chocolate', 'type': 'Grocery', 'brand': 'Nutralite', 'mrp': 188, 'exp_date': '03/08/2022', 'weight': '275g', 'quantity': 773}\n",
      "\n",
      "Product_id: 9 {'name': 'SLAY Now Premium Instant Gourmet Coffee (Classic Blend)  Jar', 'type': 'Grocery', 'brand': 'SLAY', 'mrp': 188, 'exp_date': '03/08/2022', 'weight': '50g', 'quantity': 270}\n",
      "\n",
      "Product_id: 10 {'name': '', 'type': '', 'brand': '', 'mrp': 188, 'exp_date': '03/11/2023', 'weight': '100g', 'quantity': 4738}\n",
      "\n",
      "Product_id: 11 {'name': 'Nestle MUNCH Crisp-Pop Caramel Chocolate Coated Crunchy Wafer', 'type': 'Grocery', 'brand': 'Nestle', 'mrp': 599, 'exp_date': '03/08/2023', 'weight': '20g', 'quantity': 408}\n",
      "\n",
      "Product_id: 12 {'name': 'Hatamic Cold Pressed Mustord Oil', 'type': 'Grocery', 'brand': 'Hathmic', 'mrp': 438, 'exp_date': '03/08/2024', 'weight': '200g', 'quantity': 102}\n",
      "\n",
      "Product_id: 13 {'name': 'ChefBoss Hyderabadi Briyabi Masala Paste', 'type': 'Grocery', 'brand': 'ChefBoss', 'mrp': 150, 'exp_date': '03/08/2023', 'weight': '150', 'quantity': 203}\n",
      "\n",
      "Product_id: 14 {'name': 'Naturalite Choco Calcium|Hazelnut', 'type': 'Grocery', 'brand': 'Naturalite', 'mrp': 224, 'exp_date': '05/11/2023', 'weight': '50g', 'quantity': 773}\n",
      "\n",
      "Product_id: 15 {'name': 'Nestle Milkbar Moosa', 'type': 'Grocery', 'brand': 'Nestle', 'mrp': 630, 'exp_date': '03/08/2023', 'weight': '63g', 'quantity': 802}\n",
      "\n",
      "Product_id: 16 {'name': 'Hapilo 100% Natural Perimium Californian', 'type': 'Snacks', 'brand': 'Happilo', 'mrp': 468, 'exp_date': '03/08/2023', 'weight': '80g', 'quantity': 7961}\n",
      "\n",
      "Product_id: 17 {'name': 'Amazon Brand-Solimo Almonds', 'type': 'Snacks', 'brand': 'Whole Almonds', 'mrp': 979, 'exp_date': '03/08/2022', 'weight': '500g', 'quantity': 2016}\n",
      "\n",
      "Product_id: 18 {'name': '', 'type': '', 'brand': '', 'mrp': 188, 'exp_date': '03/08/2022', 'weight': '', 'quantity': 4408}\n",
      "\n",
      "Product_id: 19 {'name': 'Vedka Popular Whole Almonds', 'type': 'Sancks', 'brand': 'Vedka', 'mrp': 519, 'exp_date': '03/08/2022', 'weight': '500g', 'quantity': 56830}\n",
      "\n",
      "Product_id: 20 {'name': 'True Element Sunflower Seeds', 'type': 'Snacks', 'brand': 'True Elements', 'mrp': 169, 'exp_date': '03/08/2023', 'weight': '250g', 'quantity': 2892}\n",
      "\n",
      "Product_id: 21 {'name': 'True Elements Raw Flax Seeds', 'type': 'Snacks', 'brand': 'True Elements', 'mrp': 190, 'exp_date': '03/05/2023', 'weight': '500g', 'quantity': 5433}\n",
      "\n",
      "Product_id: 22 {'name': 'Tulsi Almonds', 'type': 'Snacks', 'brand': 'California Almonds', 'mrp': 275, 'exp_date': '03/08/2025', 'weight': '200g', 'quantity': 11000}\n",
      "\n",
      "Product_id: 23 {'name': 'Happilo Dry Fruits', 'type': 'Snacks', 'brand': 'Happilo', 'mrp': 105, 'exp_date': '03/08/2023', 'weight': '100g', 'quantity': 500}\n",
      "\n",
      "Product_id: 24 {'name': 'Natural Mixed Fruit Juice', 'type': 'Beverages', 'brand': 'Natural', 'mrp': 220, 'exp_date': '03/00/2022', 'weight': '220ml', 'quantity': 4684}\n",
      "\n",
      "Product_id: 25 {'name': 'Badiynath Amla Juice', 'type': 'Beverages', 'brand': 'Badiyanath', 'mrp': 185, 'exp_date': '03/08/2022', 'weight': '185ml', 'quantity': 2023}\n",
      "\n",
      "Product_id: 26 {'name': 'Kapiva Get Sli Juice', 'type': 'Beverages', 'brand': 'Kapiva', 'mrp': 404, 'exp_date': '03/10/2023', 'weight': '100ml', 'quantity': 2030}\n",
      "\n",
      "Product_id: 27 {'name': 'Natural Orange Juice', 'type': 'Beverages', 'brand': 'Natural', 'mrp': 220, 'exp_date': '03/11/2022', 'weight': '2L', 'quantity': 2821}\n",
      "\n",
      "Product_id: 28 {'name': 'Badiyanath Giloy Tulsi Juice', 'type': 'Beverages', 'brand': 'Badiyanath', 'mrp': 220, 'exp_date': '03/09/2023', 'weight': '1L', 'quantity': 4075}\n",
      "\n",
      "Product_id: 29 {'name': 'Dabur Giloy neem Tulsi Juice', 'type': 'Beverages', 'brand': 'Dabur', 'mrp': 204, 'exp_date': '05/11/2022', 'weight': '100ml', 'quantity': 4541}\n",
      "\n",
      "Product_id: 30 {'name': 'Kapiva Dia Free Juice', 'type': 'Beverages', 'brand': 'Kapiva', 'mrp': 382, 'exp_date': '03/11/2023', 'weight': '1L', 'quantity': 1338}\n",
      "\n",
      "Product_id: 31 {'name': 'Kapiva Karela Jamun Juice', 'type': 'Beverages', 'brand': 'Kapiva', 'mrp': 270, 'exp_date': '03/08/2022', 'weight': '1L', 'quantity': 1804}\n",
      "\n",
      "Product_id: 32 {'name': 'Paper Boat Aamras Juice', 'type': 'Beverages', 'brand': 'Paper Boat', 'mrp': 188, 'exp_date': '03/08/2023', 'weight': '1L', 'quantity': 499}\n",
      "\n",
      "Product_id: 33 {'name': 'Real Active Orange Juice', 'type': 'Beverages', 'brand': 'Real', 'mrp': 200, 'exp_date': '03/06/2023', 'weight': '1L', 'quantity': 2954}\n",
      "\n",
      "Product_id: 34 {'name': 'B Natural Guava Juice', 'type': 'Beverages', 'brand': 'Natural', 'mrp': 188, 'exp_date': '03/09/2024', 'weight': '!L', 'quantity': 3293}\n",
      "\n",
      "Product_id: 35 {'name': 'B Natural Apple Juice', 'type': 'Beverages', 'brand': 'Natural', 'mrp': 220, 'exp_date': '03/08/2023', 'weight': '2L', 'quantity': 2056}\n",
      "\n",
      "Product_id: 36 {'name': 'Tata Salt', 'type': 'Spices', 'brand': 'Tata', 'mrp': 20, 'exp_date': '03/08/2023', 'weight': '1Kg', 'quantity': 13476}\n",
      "\n",
      "Product_id: 37 {'name': 'Tata Sampoon Cooriander', 'type': 'Spices', 'brand': 'Tata', 'mrp': 47, 'exp_date': '03/08/2023', 'weight': '200g', 'quantity': 2275}\n",
      "\n",
      "Product_id: 90 {'name': 'afaf', 'type': 'afa', 'brand': 'ada', 'mrp': 12, 'exp_date': '22/12/2222', 'quantity': 90}\n",
      "-------------------------------------------------------------------------------------------\n",
      "\n",
      "Option1: Update\n",
      "\n",
      "Option 2: Delete\n",
      "\n",
      "Option 3:To add quantity to existing product id\n",
      "\n",
      "-------------------------------------------------------------------------------------------\n",
      "Enter 1 to update or 2 to delete or 3 To add quantity to existing product id:2\n",
      "Delete record by entering product id\n",
      "Enter product id:90\n"
     ]
    }
   ],
   "source": [
    "update()\n"
   ]
  },
  {
   "cell_type": "code",
   "execution_count": 51,
   "metadata": {},
   "outputs": [],
   "source": [
    "#To verify updates\n",
    "fin=open(\"records.json\",\"r\")\n",
    "data=fin.read()\n",
    "fin.close()"
   ]
  },
  {
   "cell_type": "code",
   "execution_count": 52,
   "metadata": {},
   "outputs": [],
   "source": [
    "#data"
   ]
  },
  {
   "cell_type": "code",
   "execution_count": null,
   "metadata": {},
   "outputs": [],
   "source": []
  },
  {
   "cell_type": "code",
   "execution_count": null,
   "metadata": {},
   "outputs": [],
   "source": []
  },
  {
   "cell_type": "code",
   "execution_count": null,
   "metadata": {},
   "outputs": [],
   "source": []
  },
  {
   "cell_type": "code",
   "execution_count": null,
   "metadata": {},
   "outputs": [],
   "source": []
  },
  {
   "cell_type": "code",
   "execution_count": null,
   "metadata": {},
   "outputs": [],
   "source": []
  },
  {
   "cell_type": "code",
   "execution_count": null,
   "metadata": {},
   "outputs": [],
   "source": []
  },
  {
   "cell_type": "code",
   "execution_count": null,
   "metadata": {},
   "outputs": [],
   "source": []
  },
  {
   "cell_type": "code",
   "execution_count": null,
   "metadata": {},
   "outputs": [],
   "source": []
  },
  {
   "cell_type": "code",
   "execution_count": null,
   "metadata": {},
   "outputs": [],
   "source": []
  },
  {
   "cell_type": "code",
   "execution_count": null,
   "metadata": {},
   "outputs": [],
   "source": []
  },
  {
   "cell_type": "code",
   "execution_count": null,
   "metadata": {},
   "outputs": [],
   "source": []
  },
  {
   "cell_type": "code",
   "execution_count": null,
   "metadata": {},
   "outputs": [],
   "source": []
  },
  {
   "cell_type": "code",
   "execution_count": null,
   "metadata": {},
   "outputs": [],
   "source": []
  }
 ],
 "metadata": {
  "kernelspec": {
   "display_name": "Python 3",
   "language": "python",
   "name": "python3"
  },
  "language_info": {
   "codemirror_mode": {
    "name": "ipython",
    "version": 3
   },
   "file_extension": ".py",
   "mimetype": "text/x-python",
   "name": "python",
   "nbconvert_exporter": "python",
   "pygments_lexer": "ipython3",
   "version": "3.8.5"
  }
 },
 "nbformat": 4,
 "nbformat_minor": 4
}
